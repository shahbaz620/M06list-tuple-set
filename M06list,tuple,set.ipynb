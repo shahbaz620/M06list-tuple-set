{
 "cells": [
  {
   "cell_type": "code",
   "execution_count": 1,
   "id": "f2a2d630-8a2c-48e9-9ba1-da399dcf2727",
   "metadata": {},
   "outputs": [],
   "source": [
    "l = [1,345,'shah',True , 5+8j , 345.456]"
   ]
  },
  {
   "cell_type": "code",
   "execution_count": 2,
   "id": "6f3d732f-7b58-47ee-8ac3-0cbb31741788",
   "metadata": {},
   "outputs": [
    {
     "data": {
      "text/plain": [
       "list"
      ]
     },
     "execution_count": 2,
     "metadata": {},
     "output_type": "execute_result"
    }
   ],
   "source": [
    "type(l)"
   ]
  },
  {
   "cell_type": "code",
   "execution_count": 3,
   "id": "31e37756-d364-4b8d-bffb-b6548dcd1474",
   "metadata": {},
   "outputs": [
    {
     "data": {
      "text/plain": [
       "1"
      ]
     },
     "execution_count": 3,
     "metadata": {},
     "output_type": "execute_result"
    }
   ],
   "source": [
    "l[0]"
   ]
  },
  {
   "cell_type": "code",
   "execution_count": 4,
   "id": "395e6fa7-94af-4a56-81c4-b56f290f9dce",
   "metadata": {},
   "outputs": [
    {
     "data": {
      "text/plain": [
       "'shah'"
      ]
     },
     "execution_count": 4,
     "metadata": {},
     "output_type": "execute_result"
    }
   ],
   "source": [
    "l[2]"
   ]
  },
  {
   "cell_type": "code",
   "execution_count": 5,
   "id": "ac41f17a-611f-4751-886a-83a2d2f77bc4",
   "metadata": {},
   "outputs": [
    {
     "data": {
      "text/plain": [
       "345.456"
      ]
     },
     "execution_count": 5,
     "metadata": {},
     "output_type": "execute_result"
    }
   ],
   "source": [
    "l[5]"
   ]
  },
  {
   "cell_type": "code",
   "execution_count": 6,
   "id": "462ce5ee-0b6d-4d60-a3ce-c2463241b43d",
   "metadata": {},
   "outputs": [
    {
     "data": {
      "text/plain": [
       "[1, 345, 'shah', True, (5+8j), 345.456]"
      ]
     },
     "execution_count": 6,
     "metadata": {},
     "output_type": "execute_result"
    }
   ],
   "source": [
    "l"
   ]
  },
  {
   "cell_type": "code",
   "execution_count": 7,
   "id": "def38e66-0b29-4ce2-9383-d27e9b1d3f3d",
   "metadata": {},
   "outputs": [
    {
     "data": {
      "text/plain": [
       "[1, 345, 'shah']"
      ]
     },
     "execution_count": 7,
     "metadata": {},
     "output_type": "execute_result"
    }
   ],
   "source": [
    "l[0:3]"
   ]
  },
  {
   "cell_type": "code",
   "execution_count": 8,
   "id": "af5b2167-1fdd-4650-83ae-74e42957865f",
   "metadata": {},
   "outputs": [],
   "source": [
    "l = [1,345,45,'shah',True , 5+8j , 345.456]"
   ]
  },
  {
   "cell_type": "code",
   "execution_count": 9,
   "id": "00c10171-16ed-485a-aa56-0b562b8c7f05",
   "metadata": {},
   "outputs": [
    {
     "data": {
      "text/plain": [
       "345.456"
      ]
     },
     "execution_count": 9,
     "metadata": {},
     "output_type": "execute_result"
    }
   ],
   "source": [
    "l[-1]"
   ]
  },
  {
   "cell_type": "code",
   "execution_count": 10,
   "id": "817aaa2c-677e-4251-a2e7-c3a7375b1c13",
   "metadata": {},
   "outputs": [
    {
     "data": {
      "text/plain": [
       "[345.456, (5+8j), True, 'shah', 45, 345, 1]"
      ]
     },
     "execution_count": 10,
     "metadata": {},
     "output_type": "execute_result"
    }
   ],
   "source": [
    "l[::-1]"
   ]
  },
  {
   "cell_type": "code",
   "execution_count": 11,
   "id": "d95064a3-447b-4454-ad13-0b9aa7f9b9d2",
   "metadata": {},
   "outputs": [
    {
     "data": {
      "text/plain": [
       "[1, 45, True, 345.456]"
      ]
     },
     "execution_count": 11,
     "metadata": {},
     "output_type": "execute_result"
    }
   ],
   "source": [
    "l[::2]"
   ]
  },
  {
   "cell_type": "code",
   "execution_count": 12,
   "id": "54c14da8-f5c4-47b8-8bda-027c52de2091",
   "metadata": {},
   "outputs": [
    {
     "data": {
      "text/plain": [
       "[1, 345, 45, 'shah', True, (5+8j), 345.456]"
      ]
     },
     "execution_count": 12,
     "metadata": {},
     "output_type": "execute_result"
    }
   ],
   "source": [
    "l"
   ]
  },
  {
   "cell_type": "code",
   "execution_count": 14,
   "id": "60b8e999-2fc4-479d-a967-23f4cec3bbf9",
   "metadata": {},
   "outputs": [],
   "source": [
    "s = \"pwskills\""
   ]
  },
  {
   "cell_type": "code",
   "execution_count": 15,
   "id": "bd473449-121a-4cbf-8c05-6516f15097e6",
   "metadata": {},
   "outputs": [
    {
     "data": {
      "text/plain": [
       "['p', 'w', 's', 'k', 'i', 'l', 'l', 's']"
      ]
     },
     "execution_count": 15,
     "metadata": {},
     "output_type": "execute_result"
    }
   ],
   "source": [
    "list(s)"
   ]
  },
  {
   "cell_type": "code",
   "execution_count": 16,
   "id": "cfff6021-00bc-45a3-843d-dc8fbbf0a644",
   "metadata": {},
   "outputs": [
    {
     "data": {
      "text/plain": [
       "['p',\n",
       " 'w',\n",
       " 's',\n",
       " 'k',\n",
       " 'i',\n",
       " 'l',\n",
       " 'l',\n",
       " 's',\n",
       " 1,\n",
       " 345,\n",
       " 45,\n",
       " 'shah',\n",
       " True,\n",
       " (5+8j),\n",
       " 345.456]"
      ]
     },
     "execution_count": 16,
     "metadata": {},
     "output_type": "execute_result"
    }
   ],
   "source": [
    "list(s) + l"
   ]
  },
  {
   "cell_type": "code",
   "execution_count": 17,
   "id": "64bb700c-8ee0-4bff-ad00-0ee290145714",
   "metadata": {},
   "outputs": [
    {
     "data": {
      "text/plain": [
       "[1, 345, 45, 'shah', True, (5+8j), 345.456]"
      ]
     },
     "execution_count": 17,
     "metadata": {},
     "output_type": "execute_result"
    }
   ],
   "source": [
    "l"
   ]
  },
  {
   "cell_type": "code",
   "execution_count": 20,
   "id": "85c24f41-d0be-4706-a8c8-b82839af1c01",
   "metadata": {},
   "outputs": [
    {
     "data": {
      "text/plain": [
       "'sh'"
      ]
     },
     "execution_count": 20,
     "metadata": {},
     "output_type": "execute_result"
    }
   ],
   "source": [
    "l[3][0:2]"
   ]
  },
  {
   "cell_type": "code",
   "execution_count": 21,
   "id": "f234c150-ad0c-4239-a3c4-eeb4b432b6a4",
   "metadata": {},
   "outputs": [
    {
     "data": {
      "text/plain": [
       "True"
      ]
     },
     "execution_count": 21,
     "metadata": {},
     "output_type": "execute_result"
    }
   ],
   "source": [
    "l[4]"
   ]
  },
  {
   "cell_type": "code",
   "execution_count": 23,
   "id": "96d295b5-fdfe-42f3-9f0f-c8dd0a79ec47",
   "metadata": {},
   "outputs": [
    {
     "data": {
      "text/plain": [
       "'Tr'"
      ]
     },
     "execution_count": 23,
     "metadata": {},
     "output_type": "execute_result"
    }
   ],
   "source": [
    "str(l[4])[0:2]"
   ]
  },
  {
   "cell_type": "code",
   "execution_count": 24,
   "id": "23320d47-0565-41e2-9218-9158049924a1",
   "metadata": {},
   "outputs": [
    {
     "data": {
      "text/plain": [
       "[1, 345, 45, 'shah', True, (5+8j), 345.456]"
      ]
     },
     "execution_count": 24,
     "metadata": {},
     "output_type": "execute_result"
    }
   ],
   "source": [
    "l"
   ]
  },
  {
   "cell_type": "code",
   "execution_count": 25,
   "id": "58146c44-8735-4921-ba16-83edd244290f",
   "metadata": {},
   "outputs": [],
   "source": [
    "l1 = [3,4,5]"
   ]
  },
  {
   "cell_type": "code",
   "execution_count": 26,
   "id": "30b5b134-8ed0-419d-80e4-65eabe13eefb",
   "metadata": {},
   "outputs": [
    {
     "data": {
      "text/plain": [
       "[1, 345, 45, 'shah', True, (5+8j), 345.456, 3, 4, 5]"
      ]
     },
     "execution_count": 26,
     "metadata": {},
     "output_type": "execute_result"
    }
   ],
   "source": [
    "l+l1"
   ]
  },
  {
   "cell_type": "code",
   "execution_count": 28,
   "id": "5ae4a2d5-c416-4581-ad50-d5565fdae1d0",
   "metadata": {},
   "outputs": [
    {
     "data": {
      "text/plain": [
       "[3, 4, 5, 3, 4, 5, 3, 4, 5]"
      ]
     },
     "execution_count": 28,
     "metadata": {},
     "output_type": "execute_result"
    }
   ],
   "source": [
    "l1 * 3"
   ]
  },
  {
   "cell_type": "code",
   "execution_count": 30,
   "id": "e752310f-c7f6-42fb-a599-5e5ce0100b40",
   "metadata": {},
   "outputs": [
    {
     "data": {
      "text/plain": [
       "[1, 345, 45, 'shah', True, (5+8j), 345.456]"
      ]
     },
     "execution_count": 30,
     "metadata": {},
     "output_type": "execute_result"
    }
   ],
   "source": [
    "l"
   ]
  },
  {
   "cell_type": "code",
   "execution_count": 29,
   "id": "728fa6f3-ba51-40c7-a52e-87ba27cb4315",
   "metadata": {},
   "outputs": [
    {
     "data": {
      "text/plain": [
       "7"
      ]
     },
     "execution_count": 29,
     "metadata": {},
     "output_type": "execute_result"
    }
   ],
   "source": [
    "len(l)"
   ]
  },
  {
   "cell_type": "code",
   "execution_count": 31,
   "id": "0b75198d-fef9-4e8e-8594-1e640697bb67",
   "metadata": {},
   "outputs": [],
   "source": [
    "l.append(5)"
   ]
  },
  {
   "cell_type": "code",
   "execution_count": 32,
   "id": "46a4c219-505a-4c40-936d-4bc54f8b25be",
   "metadata": {},
   "outputs": [
    {
     "data": {
      "text/plain": [
       "[1, 345, 45, 'shah', True, (5+8j), 345.456, 5]"
      ]
     },
     "execution_count": 32,
     "metadata": {},
     "output_type": "execute_result"
    }
   ],
   "source": [
    "l"
   ]
  },
  {
   "cell_type": "code",
   "execution_count": 33,
   "id": "7263f9ad-7895-4417-8165-a7fd0332ef72",
   "metadata": {},
   "outputs": [],
   "source": [
    "l.append(s)"
   ]
  },
  {
   "cell_type": "code",
   "execution_count": 34,
   "id": "84fca8b3-e6fa-4b6a-9e03-95332e16d05f",
   "metadata": {},
   "outputs": [
    {
     "data": {
      "text/plain": [
       "[1, 345, 45, 'shah', True, (5+8j), 345.456, 5, 'pwskills']"
      ]
     },
     "execution_count": 34,
     "metadata": {},
     "output_type": "execute_result"
    }
   ],
   "source": [
    "l"
   ]
  },
  {
   "cell_type": "code",
   "execution_count": 36,
   "id": "8387e8f3-390a-44ea-b2f5-26ef715a1ba7",
   "metadata": {},
   "outputs": [
    {
     "data": {
      "text/plain": [
       "[3, 4, 5]"
      ]
     },
     "execution_count": 36,
     "metadata": {},
     "output_type": "execute_result"
    }
   ],
   "source": [
    "l1"
   ]
  },
  {
   "cell_type": "code",
   "execution_count": 37,
   "id": "8351ccc4-dde4-44d9-ad1b-50a5fad0249b",
   "metadata": {},
   "outputs": [],
   "source": [
    "l.append(l1)"
   ]
  },
  {
   "cell_type": "code",
   "execution_count": 38,
   "id": "21776c2b-0b67-406d-bdaf-568912fe093a",
   "metadata": {},
   "outputs": [
    {
     "data": {
      "text/plain": [
       "[1, 345, 45, 'shah', True, (5+8j), 345.456, 5, 'pwskills', [3, 4, 5]]"
      ]
     },
     "execution_count": 38,
     "metadata": {},
     "output_type": "execute_result"
    }
   ],
   "source": [
    "l"
   ]
  },
  {
   "cell_type": "code",
   "execution_count": 42,
   "id": "7f02cdef-7ba4-44d6-9f76-61e725268b29",
   "metadata": {},
   "outputs": [
    {
     "data": {
      "text/plain": [
       "4"
      ]
     },
     "execution_count": 42,
     "metadata": {},
     "output_type": "execute_result"
    }
   ],
   "source": [
    "l[-1][1]"
   ]
  },
  {
   "cell_type": "code",
   "execution_count": 43,
   "id": "217bee9c-fbbc-4d3c-a54a-65f7d34fb2ff",
   "metadata": {},
   "outputs": [
    {
     "data": {
      "text/plain": [
       "[1, 345, 45, 'shah', True, (5+8j), 345.456, 5, 'pwskills', [3, 4, 5]]"
      ]
     },
     "execution_count": 43,
     "metadata": {},
     "output_type": "execute_result"
    }
   ],
   "source": [
    "l"
   ]
  },
  {
   "cell_type": "code",
   "execution_count": 44,
   "id": "be9cb0b2-990e-4ae4-bc21-3b91cad53c96",
   "metadata": {},
   "outputs": [
    {
     "ename": "TypeError",
     "evalue": "'int' object is not iterable",
     "output_type": "error",
     "traceback": [
      "\u001b[0;31m---------------------------------------------------------------------------\u001b[0m",
      "\u001b[0;31mTypeError\u001b[0m                                 Traceback (most recent call last)",
      "Cell \u001b[0;32mIn[44], line 1\u001b[0m\n\u001b[0;32m----> 1\u001b[0m \u001b[43ml\u001b[49m\u001b[38;5;241;43m.\u001b[39;49m\u001b[43mextend\u001b[49m\u001b[43m(\u001b[49m\u001b[38;5;241;43m4\u001b[39;49m\u001b[43m)\u001b[49m\n",
      "\u001b[0;31mTypeError\u001b[0m: 'int' object is not iterable"
     ]
    }
   ],
   "source": [
    "l.extend(4)"
   ]
  },
  {
   "cell_type": "code",
   "execution_count": 45,
   "id": "b8aad82a-73e3-40e2-a76a-603fbceec3e6",
   "metadata": {},
   "outputs": [],
   "source": [
    "l.extend('shah')"
   ]
  },
  {
   "cell_type": "code",
   "execution_count": 46,
   "id": "8feec725-7e2f-4d5b-bc5a-dfb69052046f",
   "metadata": {},
   "outputs": [
    {
     "data": {
      "text/plain": [
       "[1,\n",
       " 345,\n",
       " 45,\n",
       " 'shah',\n",
       " True,\n",
       " (5+8j),\n",
       " 345.456,\n",
       " 5,\n",
       " 'pwskills',\n",
       " [3, 4, 5],\n",
       " 's',\n",
       " 'h',\n",
       " 'a',\n",
       " 'h']"
      ]
     },
     "execution_count": 46,
     "metadata": {},
     "output_type": "execute_result"
    }
   ],
   "source": [
    "l"
   ]
  },
  {
   "cell_type": "code",
   "execution_count": 48,
   "id": "713e94ed-fbad-443e-bdc4-e0142600f8f2",
   "metadata": {},
   "outputs": [],
   "source": [
    "l.extend([3,4,5])"
   ]
  },
  {
   "cell_type": "code",
   "execution_count": 49,
   "id": "3e278b26-febf-49b4-898c-28964ad25f31",
   "metadata": {},
   "outputs": [
    {
     "data": {
      "text/plain": [
       "[1,\n",
       " 345,\n",
       " 45,\n",
       " 'shah',\n",
       " True,\n",
       " (5+8j),\n",
       " 345.456,\n",
       " 5,\n",
       " 'pwskills',\n",
       " [3, 4, 5],\n",
       " 's',\n",
       " 'h',\n",
       " 'a',\n",
       " 'h',\n",
       " 3,\n",
       " 4,\n",
       " 5]"
      ]
     },
     "execution_count": 49,
     "metadata": {},
     "output_type": "execute_result"
    }
   ],
   "source": [
    "l"
   ]
  },
  {
   "cell_type": "code",
   "execution_count": 50,
   "id": "e7376527-1f86-479a-bba1-43aaa5983462",
   "metadata": {},
   "outputs": [
    {
     "data": {
      "text/plain": [
       "[3, 4, 5]"
      ]
     },
     "execution_count": 50,
     "metadata": {},
     "output_type": "execute_result"
    }
   ],
   "source": [
    "l1"
   ]
  },
  {
   "cell_type": "code",
   "execution_count": 51,
   "id": "d8f366c7-6d43-4793-ab40-da02e32927ca",
   "metadata": {},
   "outputs": [],
   "source": [
    "l1.insert(1,'shah')"
   ]
  },
  {
   "cell_type": "code",
   "execution_count": 52,
   "id": "80c99aa1-95c8-437f-bd3e-fa1c565a1018",
   "metadata": {},
   "outputs": [
    {
     "data": {
      "text/plain": [
       "[3, 'shah', 4, 5]"
      ]
     },
     "execution_count": 52,
     "metadata": {},
     "output_type": "execute_result"
    }
   ],
   "source": [
    "l1"
   ]
  },
  {
   "cell_type": "code",
   "execution_count": 55,
   "id": "b0de2932-63d3-45ae-9267-971a007fd02b",
   "metadata": {},
   "outputs": [],
   "source": [
    "l1.insert(2, [2,3,4])"
   ]
  },
  {
   "cell_type": "code",
   "execution_count": 56,
   "id": "f2cd57ad-2e10-4ac9-bc52-e674e225dd29",
   "metadata": {},
   "outputs": [
    {
     "data": {
      "text/plain": [
       "[3, 'shah', [2, 3, 4], [2, 3, 4], 4, 5]"
      ]
     },
     "execution_count": 56,
     "metadata": {},
     "output_type": "execute_result"
    }
   ],
   "source": [
    "l1"
   ]
  },
  {
   "cell_type": "code",
   "execution_count": 57,
   "id": "1b3908b5-ba29-49eb-a07e-c78560cb8910",
   "metadata": {},
   "outputs": [],
   "source": [
    "l1.insert(-1 ,45)"
   ]
  },
  {
   "cell_type": "code",
   "execution_count": 58,
   "id": "0859065b-26cd-40de-b076-82b967b3b64a",
   "metadata": {},
   "outputs": [
    {
     "data": {
      "text/plain": [
       "[3, 'shah', [2, 3, 4], [2, 3, 4], 4, 45, 5]"
      ]
     },
     "execution_count": 58,
     "metadata": {},
     "output_type": "execute_result"
    }
   ],
   "source": [
    "l1"
   ]
  },
  {
   "cell_type": "code",
   "execution_count": 59,
   "id": "4f8c1904-8155-4d9a-ac9f-e54e2f88f184",
   "metadata": {},
   "outputs": [],
   "source": [
    "l1.insert(0, 45)"
   ]
  },
  {
   "cell_type": "code",
   "execution_count": 60,
   "id": "e984d188-6cb2-4666-a9fe-8901410e87b5",
   "metadata": {},
   "outputs": [
    {
     "data": {
      "text/plain": [
       "[45, 3, 'shah', [2, 3, 4], [2, 3, 4], 4, 45, 5]"
      ]
     },
     "execution_count": 60,
     "metadata": {},
     "output_type": "execute_result"
    }
   ],
   "source": [
    "l1"
   ]
  },
  {
   "cell_type": "code",
   "execution_count": 61,
   "id": "ec642d10-2448-4c3c-9c1f-01d337aa762c",
   "metadata": {},
   "outputs": [
    {
     "data": {
      "text/plain": [
       "5"
      ]
     },
     "execution_count": 61,
     "metadata": {},
     "output_type": "execute_result"
    }
   ],
   "source": [
    "l1.pop()"
   ]
  },
  {
   "cell_type": "code",
   "execution_count": 62,
   "id": "111bfd84-72e5-48a1-8a6b-112a411dccb8",
   "metadata": {},
   "outputs": [
    {
     "data": {
      "text/plain": [
       "[45, 3, 'shah', [2, 3, 4], [2, 3, 4], 4, 45]"
      ]
     },
     "execution_count": 62,
     "metadata": {},
     "output_type": "execute_result"
    }
   ],
   "source": [
    "l1"
   ]
  },
  {
   "cell_type": "code",
   "execution_count": 63,
   "id": "1d8f1a4a-fd4a-44c4-9ac9-ad78fac6eab0",
   "metadata": {},
   "outputs": [
    {
     "data": {
      "text/plain": [
       "45"
      ]
     },
     "execution_count": 63,
     "metadata": {},
     "output_type": "execute_result"
    }
   ],
   "source": [
    "l1.pop()"
   ]
  },
  {
   "cell_type": "code",
   "execution_count": 64,
   "id": "66cd65ba-c504-42b6-99ad-bb985b3681e7",
   "metadata": {},
   "outputs": [
    {
     "data": {
      "text/plain": [
       "[45, 3, 'shah', [2, 3, 4], [2, 3, 4], 4]"
      ]
     },
     "execution_count": 64,
     "metadata": {},
     "output_type": "execute_result"
    }
   ],
   "source": [
    "l1"
   ]
  },
  {
   "cell_type": "code",
   "execution_count": 65,
   "id": "6c7c7215-21e5-499e-8bab-fdc14da97f01",
   "metadata": {},
   "outputs": [
    {
     "data": {
      "text/plain": [
       "[2, 3, 4]"
      ]
     },
     "execution_count": 65,
     "metadata": {},
     "output_type": "execute_result"
    }
   ],
   "source": [
    "l1.pop(3)"
   ]
  },
  {
   "cell_type": "code",
   "execution_count": 66,
   "id": "ffad0453-4c35-4a96-8a09-04fcab7ec53b",
   "metadata": {},
   "outputs": [
    {
     "data": {
      "text/plain": [
       "[45, 3, 'shah', [2, 3, 4], 4]"
      ]
     },
     "execution_count": 66,
     "metadata": {},
     "output_type": "execute_result"
    }
   ],
   "source": [
    "l1"
   ]
  },
  {
   "cell_type": "code",
   "execution_count": 67,
   "id": "726218ad-c33d-4eeb-aceb-177e73fc56fc",
   "metadata": {},
   "outputs": [],
   "source": [
    "l1.remove(3)"
   ]
  },
  {
   "cell_type": "code",
   "execution_count": 68,
   "id": "e2578909-4a73-45db-9f6d-82f330a37545",
   "metadata": {},
   "outputs": [
    {
     "data": {
      "text/plain": [
       "[45, 'shah', [2, 3, 4], 4]"
      ]
     },
     "execution_count": 68,
     "metadata": {},
     "output_type": "execute_result"
    }
   ],
   "source": [
    "l1"
   ]
  },
  {
   "cell_type": "code",
   "execution_count": 71,
   "id": "ef84887d-27b7-4722-b4ad-8b2b35b9823c",
   "metadata": {},
   "outputs": [],
   "source": [
    "l1[2].remove(3)"
   ]
  },
  {
   "cell_type": "code",
   "execution_count": 72,
   "id": "af6539e7-ce47-4236-9283-1b77082b7fe6",
   "metadata": {},
   "outputs": [
    {
     "data": {
      "text/plain": [
       "[45, 'shah', [2, 4], 4]"
      ]
     },
     "execution_count": 72,
     "metadata": {},
     "output_type": "execute_result"
    }
   ],
   "source": [
    "l1"
   ]
  },
  {
   "cell_type": "code",
   "execution_count": 75,
   "id": "ae7baca4-43a2-4d4a-a19d-cefcfb9ec851",
   "metadata": {},
   "outputs": [],
   "source": [
    "l1.append(4)"
   ]
  },
  {
   "cell_type": "code",
   "execution_count": 76,
   "id": "b9cb0094-306f-44fd-8d4c-58eeed3bcc1a",
   "metadata": {},
   "outputs": [
    {
     "data": {
      "text/plain": [
       "[45, 'shah', [2, 4], 4, 4]"
      ]
     },
     "execution_count": 76,
     "metadata": {},
     "output_type": "execute_result"
    }
   ],
   "source": [
    "l1"
   ]
  },
  {
   "cell_type": "code",
   "execution_count": 77,
   "id": "dbeab4af-960b-40a4-9dd2-3c5fa46ccb94",
   "metadata": {},
   "outputs": [],
   "source": [
    "l1.remove(4)"
   ]
  },
  {
   "cell_type": "code",
   "execution_count": 78,
   "id": "4e3182f0-72de-4baa-bd3d-34ff85b10216",
   "metadata": {},
   "outputs": [
    {
     "data": {
      "text/plain": [
       "[45, 'shah', [2, 4], 4]"
      ]
     },
     "execution_count": 78,
     "metadata": {},
     "output_type": "execute_result"
    }
   ],
   "source": [
    "l1"
   ]
  },
  {
   "cell_type": "code",
   "execution_count": 79,
   "id": "5f49abb5-26b7-4953-a265-9ab874df064b",
   "metadata": {},
   "outputs": [
    {
     "data": {
      "text/plain": [
       "[4, [2, 4], 'shah', 45]"
      ]
     },
     "execution_count": 79,
     "metadata": {},
     "output_type": "execute_result"
    }
   ],
   "source": [
    "l1[::-1]"
   ]
  },
  {
   "cell_type": "code",
   "execution_count": 80,
   "id": "e4cfa3a3-85af-4614-94d9-48e68d37a728",
   "metadata": {},
   "outputs": [],
   "source": [
    "l1.reverse()"
   ]
  },
  {
   "cell_type": "code",
   "execution_count": 81,
   "id": "cf4da8ef-0609-484d-bd9f-2956e87b0773",
   "metadata": {},
   "outputs": [
    {
     "data": {
      "text/plain": [
       "[4, [2, 4], 'shah', 45]"
      ]
     },
     "execution_count": 81,
     "metadata": {},
     "output_type": "execute_result"
    }
   ],
   "source": [
    "l1"
   ]
  },
  {
   "cell_type": "code",
   "execution_count": 85,
   "id": "396baceb-21ce-4012-8f03-f71e20cea03b",
   "metadata": {},
   "outputs": [],
   "source": [
    "l2= [45,23,90,0,3,4,5,6,7,8,9]"
   ]
  },
  {
   "cell_type": "code",
   "execution_count": 86,
   "id": "d04f6021-169d-4b90-8b8d-9ebf8788c357",
   "metadata": {},
   "outputs": [],
   "source": [
    "l2.sort()"
   ]
  },
  {
   "cell_type": "code",
   "execution_count": 87,
   "id": "e113ee6b-66c6-453b-bcb8-ace16613f3e8",
   "metadata": {},
   "outputs": [
    {
     "data": {
      "text/plain": [
       "[0, 3, 4, 5, 6, 7, 8, 9, 23, 45, 90]"
      ]
     },
     "execution_count": 87,
     "metadata": {},
     "output_type": "execute_result"
    }
   ],
   "source": [
    "l2"
   ]
  },
  {
   "cell_type": "code",
   "execution_count": 88,
   "id": "5eefdd0c-2e9b-4d91-bf2b-56dc6c23ec75",
   "metadata": {},
   "outputs": [],
   "source": [
    "l3 = [34, 'shah', 45,12,'kumar']"
   ]
  },
  {
   "cell_type": "code",
   "execution_count": 89,
   "id": "1a7ec59e-1399-4af7-8d5c-aa1f4c47c401",
   "metadata": {},
   "outputs": [
    {
     "ename": "TypeError",
     "evalue": "'<' not supported between instances of 'str' and 'int'",
     "output_type": "error",
     "traceback": [
      "\u001b[0;31m---------------------------------------------------------------------------\u001b[0m",
      "\u001b[0;31mTypeError\u001b[0m                                 Traceback (most recent call last)",
      "Cell \u001b[0;32mIn[89], line 1\u001b[0m\n\u001b[0;32m----> 1\u001b[0m \u001b[43ml3\u001b[49m\u001b[38;5;241;43m.\u001b[39;49m\u001b[43msort\u001b[49m\u001b[43m(\u001b[49m\u001b[43m)\u001b[49m\n",
      "\u001b[0;31mTypeError\u001b[0m: '<' not supported between instances of 'str' and 'int'"
     ]
    }
   ],
   "source": [
    "l3.sort()"
   ]
  },
  {
   "cell_type": "code",
   "execution_count": 90,
   "id": "53398764-5c41-40c1-8ed8-918310d5559b",
   "metadata": {},
   "outputs": [],
   "source": [
    "l4= ['shah', 'kumar', ' pwskills' , 'data science']"
   ]
  },
  {
   "cell_type": "code",
   "execution_count": 93,
   "id": "c2f5d3d3-2a97-4fb3-a15e-2ac107f4fd6d",
   "metadata": {},
   "outputs": [],
   "source": [
    "l4.sort(reverse = True)"
   ]
  },
  {
   "cell_type": "code",
   "execution_count": 92,
   "id": "3fe39546-1ef1-4892-adc1-66d26a869558",
   "metadata": {},
   "outputs": [
    {
     "data": {
      "text/plain": [
       "[' pwskills', 'data science', 'kumar', 'shah']"
      ]
     },
     "execution_count": 92,
     "metadata": {},
     "output_type": "execute_result"
    }
   ],
   "source": [
    "l4"
   ]
  },
  {
   "cell_type": "code",
   "execution_count": 94,
   "id": "d1f10f2a-ee73-4694-a771-84de875f6673",
   "metadata": {},
   "outputs": [
    {
     "data": {
      "text/plain": [
       "['shah', 'kumar', 'data science', ' pwskills']"
      ]
     },
     "execution_count": 94,
     "metadata": {},
     "output_type": "execute_result"
    }
   ],
   "source": [
    "l4"
   ]
  },
  {
   "cell_type": "code",
   "execution_count": 96,
   "id": "3ce9cebf-2dc3-47c2-8b4f-43229962ec83",
   "metadata": {},
   "outputs": [
    {
     "data": {
      "text/plain": [
       "0"
      ]
     },
     "execution_count": 96,
     "metadata": {},
     "output_type": "execute_result"
    }
   ],
   "source": [
    "l4.index('shah')"
   ]
  },
  {
   "cell_type": "code",
   "execution_count": 97,
   "id": "35e5370c-2c6e-4a30-8e13-c8c6fc984f5c",
   "metadata": {},
   "outputs": [
    {
     "data": {
      "text/plain": [
       "1"
      ]
     },
     "execution_count": 97,
     "metadata": {},
     "output_type": "execute_result"
    }
   ],
   "source": [
    "l4.count('shah')"
   ]
  },
  {
   "cell_type": "code",
   "execution_count": 98,
   "id": "993d60da-a902-4213-9cb3-b7b07ce54156",
   "metadata": {},
   "outputs": [],
   "source": [
    "s = 'shah'"
   ]
  },
  {
   "cell_type": "code",
   "execution_count": 99,
   "id": "1177adf6-09e6-4fdd-bb64-4967f3a60647",
   "metadata": {},
   "outputs": [],
   "source": [
    "l5 = [3,4,5,6,]"
   ]
  },
  {
   "cell_type": "code",
   "execution_count": 100,
   "id": "6f49d97d-9b77-4187-a737-628dccee6307",
   "metadata": {},
   "outputs": [
    {
     "ename": "TypeError",
     "evalue": "'str' object does not support item assignment",
     "output_type": "error",
     "traceback": [
      "\u001b[0;31m---------------------------------------------------------------------------\u001b[0m",
      "\u001b[0;31mTypeError\u001b[0m                                 Traceback (most recent call last)",
      "Cell \u001b[0;32mIn[100], line 1\u001b[0m\n\u001b[0;32m----> 1\u001b[0m \u001b[43ms\u001b[49m\u001b[43m[\u001b[49m\u001b[38;5;241;43m0\u001b[39;49m\u001b[43m]\u001b[49m \u001b[38;5;241m=\u001b[39m \u001b[38;5;124m'\u001b[39m\u001b[38;5;124ma\u001b[39m\u001b[38;5;124m'\u001b[39m\n",
      "\u001b[0;31mTypeError\u001b[0m: 'str' object does not support item assignment"
     ]
    }
   ],
   "source": [
    "s[0] = 'a'"
   ]
  },
  {
   "cell_type": "code",
   "execution_count": 101,
   "id": "33515831-3a3d-4434-bf68-350c00fef925",
   "metadata": {},
   "outputs": [],
   "source": [
    "l5 [0]= 30"
   ]
  },
  {
   "cell_type": "code",
   "execution_count": 102,
   "id": "2c0b2c00-2b3f-4260-8db3-93bc050f3d59",
   "metadata": {},
   "outputs": [
    {
     "data": {
      "text/plain": [
       "[30, 4, 5, 6]"
      ]
     },
     "execution_count": 102,
     "metadata": {},
     "output_type": "execute_result"
    }
   ],
   "source": [
    "l5"
   ]
  },
  {
   "cell_type": "code",
   "execution_count": 103,
   "id": "27199aba-69f0-40d7-8ff6-8c75c23ceb9c",
   "metadata": {},
   "outputs": [
    {
     "data": {
      "text/plain": [
       "'shah'"
      ]
     },
     "execution_count": 103,
     "metadata": {},
     "output_type": "execute_result"
    }
   ],
   "source": [
    "s"
   ]
  },
  {
   "cell_type": "code",
   "execution_count": 104,
   "id": "c5305cdd-9fe0-424b-8cd2-94f0ae904c7e",
   "metadata": {},
   "outputs": [
    {
     "data": {
      "text/plain": [
       "'ahah'"
      ]
     },
     "execution_count": 104,
     "metadata": {},
     "output_type": "execute_result"
    }
   ],
   "source": [
    "s.replace('s' , 'a')"
   ]
  },
  {
   "cell_type": "code",
   "execution_count": 105,
   "id": "c8c8d4a7-4dd5-4aa3-a48a-206cdf6d4269",
   "metadata": {},
   "outputs": [
    {
     "data": {
      "text/plain": [
       "'shah'"
      ]
     },
     "execution_count": 105,
     "metadata": {},
     "output_type": "execute_result"
    }
   ],
   "source": [
    "s"
   ]
  },
  {
   "cell_type": "code",
   "execution_count": 107,
   "id": "7661e963-f2ba-4fb7-a188-9e1fdaadccca",
   "metadata": {},
   "outputs": [],
   "source": [
    "t = (2,3,4,5,'shah', 45.56, False , 45+457j , [3,4,5])"
   ]
  },
  {
   "cell_type": "code",
   "execution_count": 108,
   "id": "200cdfda-3cba-4949-bccb-ee0736ebd32a",
   "metadata": {},
   "outputs": [
    {
     "data": {
      "text/plain": [
       "(2, 3, 4, 5, 'shah', 45.56, False, (45+457j), [3, 4, 5])"
      ]
     },
     "execution_count": 108,
     "metadata": {},
     "output_type": "execute_result"
    }
   ],
   "source": [
    "t"
   ]
  },
  {
   "cell_type": "code",
   "execution_count": 109,
   "id": "af56d877-551a-4dd0-8b7d-9a3a4bed559e",
   "metadata": {},
   "outputs": [
    {
     "data": {
      "text/plain": [
       "tuple"
      ]
     },
     "execution_count": 109,
     "metadata": {},
     "output_type": "execute_result"
    }
   ],
   "source": [
    "type(t)"
   ]
  },
  {
   "cell_type": "code",
   "execution_count": 110,
   "id": "29f7d9b7-68f9-4aec-bb97-5d7967e24e48",
   "metadata": {},
   "outputs": [
    {
     "data": {
      "text/plain": [
       "9"
      ]
     },
     "execution_count": 110,
     "metadata": {},
     "output_type": "execute_result"
    }
   ],
   "source": [
    "len(t)"
   ]
  },
  {
   "cell_type": "code",
   "execution_count": 112,
   "id": "46645c89-77cb-4a82-90f3-18c90c246053",
   "metadata": {},
   "outputs": [
    {
     "data": {
      "text/plain": [
       "2"
      ]
     },
     "execution_count": 112,
     "metadata": {},
     "output_type": "execute_result"
    }
   ],
   "source": [
    "t[0]"
   ]
  },
  {
   "cell_type": "code",
   "execution_count": 113,
   "id": "bacaa9dc-ac24-45a8-a1b2-9f08c3da5161",
   "metadata": {},
   "outputs": [
    {
     "data": {
      "text/plain": [
       "[3, 4, 5]"
      ]
     },
     "execution_count": 113,
     "metadata": {},
     "output_type": "execute_result"
    }
   ],
   "source": [
    "t[-1]"
   ]
  },
  {
   "cell_type": "code",
   "execution_count": 114,
   "id": "d237173e-43ae-43c6-9fcc-e2c129a7fe5b",
   "metadata": {},
   "outputs": [
    {
     "data": {
      "text/plain": [
       "([3, 4, 5], (45+457j), False, 45.56, 'shah', 5, 4, 3, 2)"
      ]
     },
     "execution_count": 114,
     "metadata": {},
     "output_type": "execute_result"
    }
   ],
   "source": [
    "t[::-1]"
   ]
  },
  {
   "cell_type": "code",
   "execution_count": 115,
   "id": "428112f8-2309-447b-82a7-acfd10446455",
   "metadata": {},
   "outputs": [
    {
     "data": {
      "text/plain": [
       "['shah', 'kumar', 'data science', ' pwskills']"
      ]
     },
     "execution_count": 115,
     "metadata": {},
     "output_type": "execute_result"
    }
   ],
   "source": [
    "l4"
   ]
  },
  {
   "cell_type": "code",
   "execution_count": 116,
   "id": "0d0d72fb-7408-42cd-8600-0fe1bacc87da",
   "metadata": {},
   "outputs": [],
   "source": [
    "l4[0] = 23424"
   ]
  },
  {
   "cell_type": "code",
   "execution_count": 117,
   "id": "84add4a7-b6af-4590-be55-b182b5d4adf1",
   "metadata": {},
   "outputs": [
    {
     "data": {
      "text/plain": [
       "[23424, 'kumar', 'data science', ' pwskills']"
      ]
     },
     "execution_count": 117,
     "metadata": {},
     "output_type": "execute_result"
    }
   ],
   "source": [
    "l4"
   ]
  },
  {
   "cell_type": "code",
   "execution_count": 118,
   "id": "617e2300-5b86-47c6-8bf6-992e374875f7",
   "metadata": {},
   "outputs": [
    {
     "data": {
      "text/plain": [
       "(2, 3, 4, 5, 'shah', 45.56, False, (45+457j), [3, 4, 5])"
      ]
     },
     "execution_count": 118,
     "metadata": {},
     "output_type": "execute_result"
    }
   ],
   "source": [
    "t"
   ]
  },
  {
   "cell_type": "code",
   "execution_count": 119,
   "id": "30dd2643-ec3b-4490-8e6c-bc23e94cb95e",
   "metadata": {},
   "outputs": [
    {
     "data": {
      "text/plain": [
       "([3, 4, 5], (45+457j), False, 45.56, 'shah', 5, 4, 3, 2)"
      ]
     },
     "execution_count": 119,
     "metadata": {},
     "output_type": "execute_result"
    }
   ],
   "source": [
    "t[::-1]"
   ]
  },
  {
   "cell_type": "code",
   "execution_count": 120,
   "id": "5c947779-bfa8-4f4f-ac66-660f558c761e",
   "metadata": {},
   "outputs": [
    {
     "data": {
      "text/plain": [
       "0"
      ]
     },
     "execution_count": 120,
     "metadata": {},
     "output_type": "execute_result"
    }
   ],
   "source": [
    "t.count(50)"
   ]
  },
  {
   "cell_type": "code",
   "execution_count": 121,
   "id": "a120fbbc-131e-4b6b-a11e-44aca14e4259",
   "metadata": {},
   "outputs": [
    {
     "data": {
      "text/plain": [
       "6"
      ]
     },
     "execution_count": 121,
     "metadata": {},
     "output_type": "execute_result"
    }
   ],
   "source": [
    "t.index(False)"
   ]
  },
  {
   "cell_type": "code",
   "execution_count": 122,
   "id": "8a835fde-e798-4909-8b7c-b2fdd3ed5185",
   "metadata": {},
   "outputs": [
    {
     "data": {
      "text/plain": [
       "(2, 3, 4, 5, 'shah', 45.56, False, (45+457j), [3, 4, 5])"
      ]
     },
     "execution_count": 122,
     "metadata": {},
     "output_type": "execute_result"
    }
   ],
   "source": [
    "t"
   ]
  },
  {
   "cell_type": "code",
   "execution_count": 123,
   "id": "062c226e-7768-4bb8-a526-49d80fb4bf33",
   "metadata": {},
   "outputs": [],
   "source": [
    "s1 =  {}"
   ]
  },
  {
   "cell_type": "code",
   "execution_count": 124,
   "id": "12c65915-e105-4d42-a91e-f2b47ea44abf",
   "metadata": {},
   "outputs": [
    {
     "data": {
      "text/plain": [
       "dict"
      ]
     },
     "execution_count": 124,
     "metadata": {},
     "output_type": "execute_result"
    }
   ],
   "source": [
    "type(s1)"
   ]
  },
  {
   "cell_type": "code",
   "execution_count": 125,
   "id": "e15c2cc6-b992-4b5f-a606-f1cd7d184495",
   "metadata": {},
   "outputs": [],
   "source": [
    "s2 = {2,3,4,55,6}"
   ]
  },
  {
   "cell_type": "code",
   "execution_count": 126,
   "id": "01a71510-4b44-4c24-940c-ac952ff84161",
   "metadata": {},
   "outputs": [
    {
     "data": {
      "text/plain": [
       "set"
      ]
     },
     "execution_count": 126,
     "metadata": {},
     "output_type": "execute_result"
    }
   ],
   "source": [
    "type(s2)"
   ]
  },
  {
   "cell_type": "code",
   "execution_count": 127,
   "id": "9cab3d89-3dd6-483e-a98e-8b8f8e16848f",
   "metadata": {},
   "outputs": [],
   "source": [
    "s3 = {324,456, 456, 'shah' , 45+45j , 34.465, (3,4,5)}"
   ]
  },
  {
   "cell_type": "code",
   "execution_count": 128,
   "id": "9be9ee44-7681-46ff-9bbf-7e7f231a02b2",
   "metadata": {},
   "outputs": [
    {
     "data": {
      "text/plain": [
       "{(3, 4, 5), (45+45j), 324, 34.465, 456, 'shah'}"
      ]
     },
     "execution_count": 128,
     "metadata": {},
     "output_type": "execute_result"
    }
   ],
   "source": [
    "s3"
   ]
  },
  {
   "cell_type": "code",
   "execution_count": 134,
   "id": "51582436-e216-4886-ac8f-6d75eba607fa",
   "metadata": {},
   "outputs": [],
   "source": [
    "s4 = {2,3,4,5,6,2,2,3,4,5,6,2,3,1,2,3,4,5,6,1,2,3,'shah', 'Shah'}"
   ]
  },
  {
   "cell_type": "code",
   "execution_count": 135,
   "id": "26e6f546-ee98-49d6-ad1a-9cbf87fac9c0",
   "metadata": {},
   "outputs": [
    {
     "data": {
      "text/plain": [
       "{1, 2, 3, 4, 5, 6, 'Shah', 'shah'}"
      ]
     },
     "execution_count": 135,
     "metadata": {},
     "output_type": "execute_result"
    }
   ],
   "source": [
    "s4"
   ]
  },
  {
   "cell_type": "code",
   "execution_count": 136,
   "id": "272d811e-4fd5-4dd7-a15b-cc569ae4f9ee",
   "metadata": {},
   "outputs": [
    {
     "data": {
      "text/plain": [
       "{1, 2, 3, 4, 5, 6, 'Shah', 'shah'}"
      ]
     },
     "execution_count": 136,
     "metadata": {},
     "output_type": "execute_result"
    }
   ],
   "source": [
    "s4"
   ]
  },
  {
   "cell_type": "code",
   "execution_count": 138,
   "id": "9dad01cb-6a75-4cca-8665-4af7af66d971",
   "metadata": {},
   "outputs": [],
   "source": [
    "l6 = s4 = [2,3,4,5,6,2,2,3,4,5,6,2,3,1,2,3,4,5,6,1,2,3,'shah', 'Shah']"
   ]
  },
  {
   "cell_type": "code",
   "execution_count": 140,
   "id": "63dabfad-e919-4d00-bfdc-8d38246bb6c2",
   "metadata": {},
   "outputs": [],
   "source": [
    "l6 = list(set(l6))"
   ]
  },
  {
   "cell_type": "code",
   "execution_count": 141,
   "id": "e3b7e824-2fea-479f-ad7d-0a9c54c023e3",
   "metadata": {},
   "outputs": [
    {
     "data": {
      "text/plain": [
       "[1, 2, 3, 4, 5, 6, 'shah', 'Shah']"
      ]
     },
     "execution_count": 141,
     "metadata": {},
     "output_type": "execute_result"
    }
   ],
   "source": [
    "l6"
   ]
  },
  {
   "cell_type": "code",
   "execution_count": 142,
   "id": "91e418d3-3664-45a3-9524-fc8b26a11a75",
   "metadata": {},
   "outputs": [],
   "source": [
    "s5 = {234,45,23,12,567,45,2,789,234,'abc', 456, 342,}"
   ]
  },
  {
   "cell_type": "code",
   "execution_count": 143,
   "id": "e5d30c61-ff27-43de-a1d0-985e57486459",
   "metadata": {},
   "outputs": [
    {
     "data": {
      "text/plain": [
       "{12, 2, 23, 234, 342, 45, 456, 567, 789, 'abc'}"
      ]
     },
     "execution_count": 143,
     "metadata": {},
     "output_type": "execute_result"
    }
   ],
   "source": [
    "s5"
   ]
  },
  {
   "cell_type": "code",
   "execution_count": 144,
   "id": "630b768c-f262-4784-b67e-97298c208c5e",
   "metadata": {},
   "outputs": [
    {
     "ename": "TypeError",
     "evalue": "'set' object is not subscriptable",
     "output_type": "error",
     "traceback": [
      "\u001b[0;31m---------------------------------------------------------------------------\u001b[0m",
      "\u001b[0;31mTypeError\u001b[0m                                 Traceback (most recent call last)",
      "Cell \u001b[0;32mIn[144], line 1\u001b[0m\n\u001b[0;32m----> 1\u001b[0m \u001b[43ms5\u001b[49m\u001b[43m[\u001b[49m\u001b[38;5;241;43m0\u001b[39;49m\u001b[43m]\u001b[49m\n",
      "\u001b[0;31mTypeError\u001b[0m: 'set' object is not subscriptable"
     ]
    }
   ],
   "source": [
    "s5[0]"
   ]
  },
  {
   "cell_type": "code",
   "execution_count": 145,
   "id": "94d735a4-00d5-447f-b6ca-ffebc24d4a6e",
   "metadata": {},
   "outputs": [
    {
     "data": {
      "text/plain": [
       "{12, 2, 23, 234, 342, 45, 456, 567, 789, 'abc'}"
      ]
     },
     "execution_count": 145,
     "metadata": {},
     "output_type": "execute_result"
    }
   ],
   "source": [
    "s5"
   ]
  },
  {
   "cell_type": "code",
   "execution_count": 146,
   "id": "142bdf21-9763-4052-81cc-8338d74e264d",
   "metadata": {},
   "outputs": [],
   "source": [
    "s5.add(4)"
   ]
  },
  {
   "cell_type": "code",
   "execution_count": 147,
   "id": "d3ecfd48-0639-4942-9caa-e306dded8b91",
   "metadata": {},
   "outputs": [
    {
     "data": {
      "text/plain": [
       "{12, 2, 23, 234, 342, 4, 45, 456, 567, 789, 'abc'}"
      ]
     },
     "execution_count": 147,
     "metadata": {},
     "output_type": "execute_result"
    }
   ],
   "source": [
    "s5"
   ]
  },
  {
   "cell_type": "code",
   "execution_count": 148,
   "id": "2d8fb5af-9c80-43a2-9d22-c241829b06c3",
   "metadata": {},
   "outputs": [],
   "source": [
    "s5.remove(2)"
   ]
  },
  {
   "cell_type": "code",
   "execution_count": 149,
   "id": "75970968-5e47-4242-9b2f-fda59ed08283",
   "metadata": {},
   "outputs": [
    {
     "data": {
      "text/plain": [
       "{12, 23, 234, 342, 4, 45, 456, 567, 789, 'abc'}"
      ]
     },
     "execution_count": 149,
     "metadata": {},
     "output_type": "execute_result"
    }
   ],
   "source": [
    "s5"
   ]
  },
  {
   "cell_type": "code",
   "execution_count": null,
   "id": "62c665b4-3c11-4ba3-9aac-1154eda9a4e0",
   "metadata": {},
   "outputs": [],
   "source": []
  }
 ],
 "metadata": {
  "kernelspec": {
   "display_name": "Python 3 (ipykernel)",
   "language": "python",
   "name": "python3"
  },
  "language_info": {
   "codemirror_mode": {
    "name": "ipython",
    "version": 3
   },
   "file_extension": ".py",
   "mimetype": "text/x-python",
   "name": "python",
   "nbconvert_exporter": "python",
   "pygments_lexer": "ipython3",
   "version": "3.10.8"
  }
 },
 "nbformat": 4,
 "nbformat_minor": 5
}
